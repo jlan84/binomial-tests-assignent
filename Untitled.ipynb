{
 "cells": [
  {
   "cell_type": "code",
   "execution_count": 1,
   "metadata": {},
   "outputs": [],
   "source": [
    "import numpy as np\n",
    "import pandas as pd\n",
    "\n",
    "%matplotlib inline\n",
    "import matplotlib.pyplot as plt"
   ]
  },
  {
   "cell_type": "markdown",
   "metadata": {},
   "source": [
    "## Binomially Distributed Data\n",
    "\n",
    "\n",
    "Recall the binomial distribution describes data generated when we observe a binary outcome (one of two things can happen) a fixed number of times, and the probability that one or another thing happens for each individual outcome does not change.\n",
    "\n",
    "In each of the following situations, the resulting data *may be* binomially distributed.\n",
    "\n",
    "  - If it is binomially distributed, give the parameters of the binomial distribution.\n",
    "  - If it is not binomially distributed, describe why not.  If you can, give the correct distribution (if not, don't worry too much about it)."
   ]
  },
  {
   "cell_type": "markdown",
   "metadata": {},
   "source": [
    "#### 1. A large bucket contains 1256 six sided dice.  You dump all of them onto the ground (without losing any) and count how many 4's you see.\n",
    "\n",
    "The face showing on each die is independent from all the others, and there is a $\\frac{1}{6}$ of the $4$ showing on each individual die.  So:\n",
    "\n",
    "$$ P(\\text{# 4's showing} = k) =\\binom{1256}{k} \\left( \\frac{1}{6} \\right)^k \\left(\\frac{5}{6} \\right)^{1256 - k} $$\n",
    "\n",
    "Which is a binomial probability."
   ]
  },
  {
   "cell_type": "markdown",
   "metadata": {},
   "source": [
    "#### 2. A large bucket contains 1256 dice with varying numbers of sides (some have 4 sides, some have six, some have 8, some have 10, some have 12, and some have 20).  You dump them all onto the ground (without losing any) and count how many 4's you see.\n",
    "\n",
    "Even though all the die here are independently facing, the probabilities of showing a four on the various die are not all the same (for some it is $\\frac{1}{6}$, for some it is \\frac{1}{8}, etc...).\n",
    "\n",
    "It woul be possible to compute this probabilit *if* we knew how many die of each type there were, but without this information all we can say is that it is *not* binomial."
   ]
  },
  {
   "cell_type": "markdown",
   "metadata": {},
   "source": [
    "#### 3.  A magic the gathering deck (like a deck of cards) is made up of two types of cards: lands, and playables.  You have a deck that contains the typical 17 lands.  You shuffle your deck, then draw the top cards and see if it is a land.  Then you repeat this process 100 times, and count how often there is a land on top.\n",
    "\n",
    "Each time you re-shuffle the deck, the event that there is a lnad on top is independent from all other re-shuffles.  Each time there is a $\\frac{17}{40}$ chance that the top card is a land.  So:\n",
    "\n",
    "$$ P(\\text{# of times land is on top} = k) = \\binom{100}{k} \\left( \\frac{17}{40} \\right)^k \\left(\\frac{23}{40} \\right)^{40 - k} $$"
   ]
  },
  {
   "cell_type": "markdown",
   "metadata": {},
   "source": [
    "#### 4. A magic the gathering deck is made up of two types of cards: lands, and playables.  You have a forty card deck that contains the typical 17 lands.  You shuffle your deck, draw a hand of 7 cards, and count the number of lands.\n",
    "\n",
    "You may be tempted to believe that this is binomially distributed according to the following reasoning: we have 7 cards, and each of them has a $\\frac{17}{40}$ chance of being a land, so:\n",
    "\n",
    "$$ P(\\text{# of lands in opening hand} = k) = \\binom{7}{k} \\left( \\frac{17}{40} \\right)^k \\left(\\frac{23}{40} \\right)^{40 - k} $$\n",
    "\n",
    "But this is **wrong**!\n",
    "\n",
    "The flaw in this reasoning is that, while the probability that the *first* card you draw is a land is indeed $\\frac{17}{40}$, that is not true for the subsequent cards.  In fact, there is no single probability that can be assigned to second card being a land, because:\n",
    "\n",
    "  - If the *first* card you draw is a land, then the probability the second card is a land is $\\frac{16}{39}$.\n",
    "  - If the *first* card you draw is *not* a land, then the probability the second card you draw is a land is $\\frac{17}{49}$.\n",
    "  \n",
    "The distribution of the number of lands in your opening hand does have a name (but not a very good or memorable one), it's called the [Hypergeometric Distribution](https://en.wikipedia.org/wiki/Hypergeometric_distribution).  This distribution is well known to everyone playing card games at a high level.  Using the PDF of the hypergeometric distribution, the desired probability is:\n",
    "\n",
    "$$ P(\\text{# of lands in opening hand} = k) = \\frac{ \\binom{17}{k} \\binom{40 - 17}{7 - k} }{ \\binom{40}{7} } $$"
   ]
  },
  {
   "cell_type": "markdown",
   "metadata": {},
   "source": [
    "#### 6. A large bucket contains 1256 six sided dice.  You dump all of them onto the ground, but this time you lose a random number of dice; there is a 10% chance you will lose any individual die.  You, again, count the number of 4's. \n",
    "\n",
    "As mentioned, this one actually is binomially distributed, although it may not seem like it at first.\n",
    "\n",
    "The easiest way to see this, conceptially, is to consider the \"misingness\" of a die as a new kind of face.  So where before each die had six faces, not each of them has seven:\n",
    "\n",
    "$$ 1, 2, 3, 4, 5, 6, \\text{missing} $$\n",
    "\n",
    "Where, for any individual die, $P(\\text{missing}) = 0.1$.\n",
    "\n",
    "Given this information, we can calculate the probability that any individual die shows a four:\n",
    "\n",
    "$$ \\begin{align}\n",
    "P(\\text{die shows four}) &= P(\\text{die is not missing and die shows a four}) \\\\ &= P(\\text{die shows a four} \\mid \\text{die is not missing}) P(\\text{die is not missing}) \\\\ &= \\frac{1}{6} \\times \\frac{9}{10} \\\\ &= \\frac{9}{60}\n",
    "\\end{align}$$\n",
    "\n",
    "Note that this probability is the **same** for each die, and what happens to each die is independent of what happens to all the other dice.  Consequently, the number of fours is binomially distributed, and it's PMF is:\n",
    "\n",
    "$$P(\\text{# of dice showing a four}) = \\binom{1256}{k} \\left( \\frac{9}{60} \\right)^k \\left(\\frac{9}{60} \\right)^{1256 - k} $$"
   ]
  },
  {
   "cell_type": "markdown",
   "metadata": {},
   "source": [
    "#### 7.  A magic the gathering deck is made up of two types of cards: lands, and playables.  Although 17 lands is typical in a 40 card deck, it is sometimes correct to play 16 or 18 lands.  Say when you construct a deck, 80% of them contain 17 lands, 10% contain 16, and 10% contain 18.  You build a magic the gathering deck, shuffle it, and then look at the top card and see if it is a land.  You then repeat this process 100 times (including rebuilding the deck), and count how many times there was a land on top."
   ]
  },
  {
   "cell_type": "markdown",
   "metadata": {},
   "source": [
    "This is also binomially distributed, though not obviously so.\n",
    "\n",
    "A good way to think about this is to imagine that each time you run the experiment you make three decks, one with 16 lands, one with 17, and one with 18.  Then you randomly choose a deck (with the perscribed probabilities), shuffle it, then draw to top card and check if it is a land.  It should feel intuitive that this situation is equivelant, but it may take a bit of thought to convince yourself of this.\n",
    "\n",
    "Given this situation, we can break down the probability that there is a land on the top of the chosen deck:\n",
    "\n",
    "$$\\begin{alignat}{2}\n",
    "P(\\text{top card is a land}) \\ &&= \\ &&P(\\text{top card is a land and 16 total lands}) \\\\\n",
    "&& &&+ P(\\text{top card is a land and 17 total lands}) \\\\\n",
    "&& &&+ P(\\text{top card is a land and 18 total lands}) \\\\\n",
    "&&= \\ &&P(\\text{top card is a land} \\mid \\text{16 total lands}) P(\\text{16 total lands}) \\\\\n",
    "&& &&+ P(\\text{top card is a land} \\mid \\text{17 total lands}) P(\\text{17 total lands}) \\\\\n",
    "&& &&+ P(\\text{top card is a land} \\mid \\text{18 total lands}) P(\\text{18 total lands}) \\\\\n",
    "&&= \\ &&\\frac{16}{40} \\frac{1}{10} + \\frac{17}{40} \\frac{8}{10} + \\frac{18}{40} \\frac{1}{10} \\\\\n",
    "&&= \\ && 0.425\n",
    "\\end{alignat}\n",
    "$$\n",
    "\n",
    "As in the previous problem, we see now that we get the same probability every time we run the experiment, and all the experiments are independent, so the number of times we see a land on top is binomially distributed:\n",
    "\n",
    "$$ P(\\text{# of times land is on top} = k) = \\binom{100}{k} 0.425^k \\ 0.575^{100 - k} $$"
   ]
  },
  {
   "cell_type": "markdown",
   "metadata": {},
   "source": [
    "## Binomial Hypothesis Tests"
   ]
  },
  {
   "cell_type": "markdown",
   "metadata": {},
   "source": [
    "#### 1. Muriel insists she can tell if you poured milk into tea before or after the hot water.  To prove her point, she goes to goodwill and purchases ALL of their mugs, 137 in total.  It take all day, but you manage to randomly make cups of tea milk or water first in all the mugs, and test her on all of them.  She gets 72 correct.  Do you believe her now?\n",
    "\n",
    "Let's let $p = P(\\text{Muriel gets a single cup correct})$.\n",
    "\n",
    "Null Hypothesis: $p = 0.5$\n",
    "Alternate Hypothesis: $p > 0.5$\n",
    "\n",
    "Muriel attempts the experiment 137 times, and, under the null hypothesis, the probability that she gets any single, individual cup correct is 0.5.  Therefore the probability that muriel gets some number of cups correct is a Binomial probability:\n",
    "\n",
    "$$ P(\\text{Muriel gets k cups correct}) = \\binom{137}{k} 0.5^k \\ 0.5^{137 - k} = \\binom{137}{k} 0.5^{137} $$\n"
   ]
  },
  {
   "cell_type": "code",
   "execution_count": null,
   "metadata": {},
   "outputs": [],
   "source": []
  }
 ],
 "metadata": {
  "kernelspec": {
   "display_name": "Python 3",
   "language": "python",
   "name": "python3"
  },
  "language_info": {
   "codemirror_mode": {
    "name": "ipython",
    "version": 3
   },
   "file_extension": ".py",
   "mimetype": "text/x-python",
   "name": "python",
   "nbconvert_exporter": "python",
   "pygments_lexer": "ipython3",
   "version": "3.7.1"
  }
 },
 "nbformat": 4,
 "nbformat_minor": 2
}
