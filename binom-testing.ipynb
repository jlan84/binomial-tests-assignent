{
 "cells": [
  {
   "cell_type": "code",
   "execution_count": 2,
   "metadata": {},
   "outputs": [
    {
     "name": "stdout",
     "output_type": "stream",
     "text": [
      "0.30419205344997946\n"
     ]
    },
    {
     "data": {
      "image/png": "[encoded data removed]",
      "text/plain": [
       "<Figure size 432x288 with 1 Axes>"
      ]
     },
     "metadata": {
      "needs_background": "light"
     },
     "output_type": "display_data"
    }
   ],
   "source": [
    "import scipy.stats as stats\n",
    "import matplotlib.pyplot as plt\n",
    "#1\n",
    "binomial = stats.binom.cdf(71, n=137, p=0.5)\n",
    "print(1  - binomial)\n",
    "\n",
    "binomial = stats.binom(137, 0.5)\n",
    "fig = plt.figure()\n",
    "\n",
    "ax = fig.add_subplot(111)\n",
    "bars = ax.bar(range(100), [binomial.pmf(i) for i in range(100)], align='center', color='grey')\n",
    "ax.set_xlim(40, 101)\n",
    "for i in range(72,99):\n",
    "    bars[i].set_color('red')\n",
    "plt.show()\n"
   ]
  },
  {
   "cell_type": "markdown",
   "metadata": {},
   "source": [
    ">**Null Hypothesis:** Muriel is not capable of detecting when the milk is poured after the tea <br />\n",
    ">**Alternative:** Muriel is capabale <br />\n",
    ">**sample size = 137 k = 72 p = 0.5** <br />\n",
    ">>**p = 0.304 Null Hypothesis is not rejected with a significance level of 0.25** <br />\n",
    "\n"
   ]
  },
  {
   "cell_type": "code",
   "execution_count": 3,
   "metadata": {},
   "outputs": [
    {
     "name": "stdout",
     "output_type": "stream",
     "text": [
      "0.02841134446158755\n"
     ]
    }
   ],
   "source": [
    "#2\n",
    "binomial = stats.binom.cdf(71, n=122, p=.5)\n",
    "print(1-binomial)\n",
    "\n",
    "#Looks good we can accept the null hypothesis"
   ]
  },
  {
   "cell_type": "code",
   "execution_count": null,
   "metadata": {},
   "outputs": [],
   "source": []
  }
 ],
 "metadata": {
  "kernelspec": {
   "display_name": "Python 3",
   "language": "python",
   "name": "python3"
  },
  "language_info": {
   "codemirror_mode": {
    "name": "ipython",
    "version": 3
   },
   "file_extension": ".py",
   "mimetype": "text/x-python",
   "name": "python",
   "nbconvert_exporter": "python",
   "pygments_lexer": "ipython3",
   "version": "3.7.6"
  }
 },
 "nbformat": 4,
 "nbformat_minor": 4
}
